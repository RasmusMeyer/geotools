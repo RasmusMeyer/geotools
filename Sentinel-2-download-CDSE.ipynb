{
 "cells": [
  {
   "cell_type": "markdown",
   "metadata": {},
   "source": [
    "**Sentinel-2 Search, Quicklook, and Download**\n",
    "\n",
    "Tutorial by Rasmus Meyer (rpm@ign.ku.dk) :)\n",
    "\n",
    "\n",
    "Prerequisites:\n",
    " - A Free Account https://dataspace.copernicus.eu/ \n",
    " - A shapefile/geojson polygon to define the area of interest\n",
    " - A python environment with the nessesary libraries \n",
    "\n",
    " **Description:**\n",
    " This script is made for downloading a large number of Sentinel-2 scenes throrugh Copernicus Data Space Ecosystem (CDSE).\n",
    "\n",
    "- Step 1: Define parameters like area of interest, dataset, datetime interval, and cloud cover.\n",
    "\n",
    "- Step 2: Download Quicklook of S2 scenes as .jpg to folder (You almost always want to screen your S2 scenes to save time and space before actually downloading large S2 files)\n",
    "\n",
    "- Step 3: Manually delete quicklooks of S2 scenes in folder that you do not need and write the remaining S2 scene ID and name to a .csv file. \n",
    "\n",
    "- Step 4: Generate SDSE download token (allows you to access and download), read CSV file containing S2 scene identifiers and Download scenes to folder. "
   ]
  },
  {
   "cell_type": "code",
   "execution_count": 4,
   "metadata": {},
   "outputs": [],
   "source": [
    "# HTTP requests\n",
    "import requests\n",
    "# JSON parser\n",
    "import json\n",
    "# XML parser\n",
    "import xml.etree.ElementTree as ET\n",
    "# system modules\n",
    "import os\n",
    "import re\n",
    "import sys\n",
    "import random\n",
    "# data manipulation\n",
    "import pandas as pd\n",
    "import geopandas as gpd\n",
    "import numpy as np\n",
    "# image manipulation\n",
    "import rasterio\n",
    "import matplotlib.pyplot as plt\n",
    "import matplotlib.image\n",
    "from rasterio.windows import Window\n",
    "# file manipulation\n",
    "from pathlib import Path"
   ]
  },
  {
   "cell_type": "markdown",
   "metadata": {},
   "source": [
    "**STEP 1 & 2: Define parameters and download Quicklooks**"
   ]
  },
  {
   "cell_type": "code",
   "execution_count": 9,
   "metadata": {},
   "outputs": [
    {
     "name": "stdout",
     "output_type": "stream",
     "text": [
      "✅ AOI is already in EPSG:4326\n",
      "Selected AOI in WKT format: SRID=4326;POLYGON ((-37.980470864857 65.93130091030518, -37.17216729481364 65.88496249481673, -37.288812875871116 65.53287147950994, -38.09168633577521 65.57718663528689, -37.980470864857 65.93130091030518))\n",
      "✅ Downloaded Quicklook: C:\\Users\\gjm501\\Documents\\Projects\\2502_UiO\\quicklooks_download\\c797a1c6-fff8-5bb1-bc23-e6b02e8a2ed0.jpg\n",
      "✅ Downloaded Quicklook: C:\\Users\\gjm501\\Documents\\Projects\\2502_UiO\\quicklooks_download\\88706b3b-ec80-5bae-b8a0-5d58e751fd2e.jpg\n"
     ]
    }
   ],
   "source": [
    "aoi_path = r\"C:\\Users\\gjm501\\Documents\\Projects\\2502_UiO\\Sermilik_AOI.shp\"\n",
    "\n",
    "# Define parameters\n",
    "start_date = \"2022-07-15T00:00:00.000Z\"\n",
    "end_date = \"2022-09-15T23:59:59.999Z\"\n",
    "cloud_cover_max = 10\n",
    "dataset = \"S2MSI1C\" #Sentinel-2 TOA (top-of-atmosphere (lvl 1))\n",
    "scenes_max = 2 # Max number of S2 scenes to retrieve (test first with a small number) \n",
    "\n",
    "\n",
    "quicklook_dir = fr\"C:\\Users\\gjm501\\Documents\\Projects\\2502_UiO\\quicklooks_download\" ## Path to quicklook folder\n",
    "\n",
    "##-----------------------------------------------------##\n",
    "gdf = gpd.read_file(aoi_path)\n",
    "# Check and convert CRS to EPSG:4326\n",
    "if gdf.crs != \"EPSG:4326\":\n",
    "    gdf = gdf.to_crs(epsg=4326)\n",
    "    print(\"✅ Converted AOI CRS to EPSG:4326\")\n",
    "else:\n",
    "    print(\"✅ AOI is already in EPSG:4326\")\n",
    "\n",
    "# Convert to WKT format with SRID 4326\n",
    "selected_aoi = gdf.geometry.iloc[0]\n",
    "wkt_aoi = f\"SRID=4326;{selected_aoi.wkt}\"\n",
    "\n",
    "print(\"Selected AOI in WKT format:\", wkt_aoi)\n",
    "\n",
    "\n",
    "# onstruct API query with AOI, Date, and Cloud Cover filter\n",
    "cdse_api_url = f\"https://catalogue.dataspace.copernicus.eu/odata/v1/Products?$filter=\\\n",
    "OData.CSC.Intersects(area=geography'{wkt_aoi}') and \\\n",
    "(Attributes/OData.CSC.DoubleAttribute/any(att:att/Name eq 'cloudCover' and att/OData.CSC.DoubleAttribute/Value le {cloud_cover_max}.00)) and \\\n",
    "(Attributes/OData.CSC.StringAttribute/any(att:att/Name eq 'productType' and att/OData.CSC.StringAttribute/Value eq {dataset})) and \\\n",
    "ContentDate/Start gt {start_date} and \\\n",
    "ContentDate/Start lt {end_date}&$expand=Assets&$top={scenes_max}\"\n",
    "\n",
    "# Send request\n",
    "response = requests.get(cdse_api_url)\n",
    "\n",
    "# Check if request was successful\n",
    "if response.status_code == 200:\n",
    "    json_data = response.json()\n",
    "    print('json_value', json_data[\"value\"])\n",
    "    df = pd.DataFrame.from_dict(json_data[\"value\"])\n",
    "    \n",
    "    # Print relevant columns\n",
    "    columns_to_print = [\"Id\", \"Name\", \"S3Path\", \"GeoFootprint\", \"Assets\"]\n",
    "    print(df[columns_to_print].head(3))  # Print first 3 results\n",
    "\n",
    "    # Save full API response to inspect Quicklook links\n",
    "    with open(\"cdse_response.json\", \"w\") as f:\n",
    "        f.write(response.text)\n",
    "\n",
    "    print(\"✅ Query successful! Data saved in `cdse_response.json`\")\n",
    "\n",
    "# Extract Quicklook URLs from `Assets`\n",
    "quicklook_urls = {}\n",
    "\n",
    "for index, row in df.iterrows():\n",
    "    assets = row.get(\"Assets\", [])  # Get the Assets field or default to an empty list\n",
    "    if isinstance(assets, list):  # Ensure Assets is a list\n",
    "        for asset in assets:\n",
    "            if asset.get(\"Type\") == \"QUICKLOOK\":  # Find Quicklook assets\n",
    "                quicklook_id = asset.get(\"Id\")  # Get the Quicklook's unique Id\n",
    "                quicklook_urls[row[\"Id\"]] = f\"https://catalogue.dataspace.copernicus.eu/odata/v1/Assets({quicklook_id})/$value\"\n",
    "\n",
    "# Print extracted Quicklook URLs\n",
    "#print(\"Extracted Quicklook URLs:\", quicklook_urls)\n",
    "\n",
    "import os\n",
    "import requests\n",
    "\n",
    "# Create a folder to store Quicklooks\n",
    "os.makedirs(quicklook_dir, exist_ok=True)\n",
    "\n",
    "# Function to download Quicklooks\n",
    "def download_quicklook(uuid, url):\n",
    "    response = requests.get(url)\n",
    "    if response.status_code == 200:\n",
    "        file_path = os.path.join(quicklook_dir, f\"{uuid}.jpg\")\n",
    "        with open(file_path, \"wb\") as f:\n",
    "            f.write(response.content)\n",
    "        print(f\"✅ Downloaded Quicklook: {file_path}\")\n",
    "    else:\n",
    "        print(f\"❌ Failed to download Quicklook for {uuid} (Status: {response.status_code})\")\n",
    "\n",
    "# Loop through extracted Quicklook URLs and download\n",
    "for uuid, url in quicklook_urls.items():\n",
    "    download_quicklook(uuid, url)"
   ]
  },
  {
   "cell_type": "markdown",
   "metadata": {},
   "source": [
    "**Step 3: Manually delete scenes in quicklook folder and run script below to retrieve S2 scene ID's**"
   ]
  },
  {
   "cell_type": "code",
   "execution_count": 10,
   "metadata": {},
   "outputs": [
    {
     "name": "stdout",
     "output_type": "stream",
     "text": [
      "Remaining Quicklook UUIDs: ['c797a1c6-fff8-5bb1-bc23-e6b02e8a2ed0']\n",
      "Remaining Scenes:                                      Id  \\\n",
      "0  c797a1c6-fff8-5bb1-bc23-e6b02e8a2ed0   \n",
      "\n",
      "                                                Name  \n",
      "0  S2A_MSIL1C_20220722T142031_N0400_R096_T24WWU_2...  \n",
      "✅ Saved remaining scene names to `remaining_scenes.csv`\n"
     ]
    }
   ],
   "source": [
    "# List all remaining Quicklooks\n",
    "remaining_quicklooks = [f.split(\".\")[0] for f in os.listdir(quicklook_dir) if f.endswith(\".jpg\")]\n",
    "# Print remaining Quicklook UUIDs\n",
    "print(\"Remaining Quicklook UUIDs:\", remaining_quicklooks)\n",
    "\n",
    "# Filter the DataFrame to keep only rows where Id is in remaining Quicklooks\n",
    "filtered_df = df[df[\"Id\"].isin(remaining_quicklooks)]\n",
    "# Extract scene names (identifiers)\n",
    "scene_names = filtered_df[[\"Id\",\"Name\"]]\n",
    "# Print remaining scene names\n",
    "print(\"Remaining Scenes:\", scene_names)\n",
    "\n",
    "scene_names.to_csv(fr\"C:\\Users\\gjm501\\Documents\\Projects\\2502_UiO\\Quicklooks_download.csv\", index=False)\n",
    "print(\"✅ Saved remaining scene names to `remaining_scenes.csv`\")"
   ]
  },
  {
   "cell_type": "markdown",
   "metadata": {},
   "source": [
    "**Step 4: Download S2 scenes**"
   ]
  },
  {
   "cell_type": "markdown",
   "metadata": {},
   "source": [
    "Step 4.1: Set credentials and recieve access token for download "
   ]
  },
  {
   "cell_type": "code",
   "execution_count": 13,
   "metadata": {},
   "outputs": [
    {
     "name": "stdout",
     "output_type": "stream",
     "text": [
      "✅ Access Token Received!\n"
     ]
    }
   ],
   "source": [
    "import requests\n",
    "\n",
    "# Your CDSE API credentials\n",
    "cdse_username = \"rpm@ign.ku.dk\"  # Replace with your actual username\n",
    "cdse_password = \"Spatiotemporal01!\"  # Replace with your actual password\n",
    "\n",
    "# URL for authentication\n",
    "token_url = \"https://identity.dataspace.copernicus.eu/auth/realms/CDSE/protocol/openid-connect/token\"\n",
    "\n",
    "# Authentication payload\n",
    "payload = {\n",
    "    \"grant_type\": \"password\",\n",
    "    \"username\": cdse_username,\n",
    "    \"password\": cdse_password,\n",
    "    \"client_id\": \"cdse-public\",\n",
    "}\n",
    "\n",
    "# Request access token\n",
    "response = requests.post(token_url, data=payload)\n",
    "\n",
    "if response.status_code == 200:\n",
    "    token_data = response.json()\n",
    "    access_token = token_data[\"access_token\"]  # Store this for later API calls\n",
    "    refresh_token = token_data[\"refresh_token\"]  # Store for refreshing the token\n",
    "    print(\"✅ Access Token Received!\")\n",
    "else:\n",
    "    print(f\"❌ Authentication failed! Status code: {response.status_code}\")\n",
    "    print(response.text)\n"
   ]
  },
  {
   "cell_type": "markdown",
   "metadata": {},
   "source": [
    "Step 4.2: Download S2 scenes"
   ]
  },
  {
   "cell_type": "code",
   "execution_count": 14,
   "metadata": {},
   "outputs": [
    {
     "name": "stdout",
     "output_type": "stream",
     "text": [
      "✅ Downloaded: C:\\Users\\gjm501\\Documents\\Projects\\2502_UiO\\S2_download\\c797a1c6-fff8-5bb1-bc23-e6b02e8a2ed0.zip\n"
     ]
    }
   ],
   "source": [
    "import requests\n",
    "import pandas as pd\n",
    "import os\n",
    "import time\n",
    "\n",
    "# Load the CSV File with Sentinel-2 Product IDs\n",
    "csv_path = fr\"C:\\Users\\gjm501\\Documents\\Projects\\2502_UiO\\Quicklooks_download.csv\"\n",
    "\n",
    "# Set Up Download Folder\n",
    "download_folder = r\"C:\\Users\\gjm501\\Documents\\Projects\\2502_UiO\\S2_download\"\n",
    "\n",
    "# Read the CSV file (ensure \"Id\" column exists)\n",
    "df = pd.read_csv(csv_path)\n",
    "#df = scene_names\n",
    "\n",
    "\n",
    "os.makedirs(download_folder, exist_ok=True)\n",
    "\n",
    "# Download Each Sentinel-2 Scene Based on \"Id\" Column\n",
    "def download_sentinel2_scene(product_id):\n",
    "    download_url = f\"https://download.dataspace.copernicus.eu/odata/v1/Products({product_id})/$value\"\n",
    "    headers = {\"Authorization\": f\"Bearer {access_token}\"}\n",
    "    file_path = os.path.join(download_folder, f\"{product_id}.zip\")\n",
    "\n",
    "    response = requests.get(download_url, headers=headers, stream=True)\n",
    "\n",
    "    if response.status_code == 200:\n",
    "        with open(file_path, \"wb\") as f:\n",
    "            for chunk in response.iter_content(chunk_size=8192):\n",
    "                if chunk:\n",
    "                    f.write(chunk)\n",
    "        print(f\"✅ Downloaded: {file_path}\")\n",
    "    else:\n",
    "        print(f\"❌ Failed to download: {product_id} (Status: {response.status_code})\")\n",
    "        print(response.text)\n",
    "\n",
    "# Loop Through Each ID and Download\n",
    "for product_id in df[\"Id\"]:\n",
    "    download_sentinel2_scene(product_id)\n",
    "    time.sleep(2)  # Avoid API rate limits"
   ]
  },
  {
   "cell_type": "code",
   "execution_count": null,
   "metadata": {},
   "outputs": [],
   "source": []
  }
 ],
 "metadata": {
  "kernelspec": {
   "display_name": "GRIT",
   "language": "python",
   "name": "python3"
  },
  "language_info": {
   "codemirror_mode": {
    "name": "ipython",
    "version": 3
   },
   "file_extension": ".py",
   "mimetype": "text/x-python",
   "name": "python",
   "nbconvert_exporter": "python",
   "pygments_lexer": "ipython3",
   "version": "3.11.5"
  }
 },
 "nbformat": 4,
 "nbformat_minor": 2
}
